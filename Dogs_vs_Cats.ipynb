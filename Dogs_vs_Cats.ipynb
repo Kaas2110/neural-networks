{
 "cells": [
  {
   "cell_type": "code",
   "execution_count": 1,
   "metadata": {},
   "outputs": [],
   "source": [
    "import os\n",
    "import zipfile\n",
    "import random\n",
    "import tensorflow as tf\n",
    "from tensorflow.keras.optimizers import RMSprop\n",
    "from tensorflow.keras.preprocessing.image import ImageDataGenerator\n",
    "from shutil import copyfile\n",
    "import warnings\n",
    "warnings.filterwarnings('ignore')\n",
    "import keras\n",
    "from matplotlib import pyplot as plt"
   ]
  },
  {
   "cell_type": "code",
   "execution_count": 2,
   "metadata": {},
   "outputs": [
    {
     "data": {
      "text/plain": [
       "<bound method ZipFile.close of <zipfile.ZipFile filename='kagglecatsanddogs_3367a.zip' mode='r'>>"
      ]
     },
     "execution_count": 2,
     "metadata": {},
     "output_type": "execute_result"
    }
   ],
   "source": [
    "local_zip = 'kagglecatsanddogs_3367a.zip'\n",
    "zip_ref = zipfile.ZipFile(local_zip, 'r')\n",
    "zip_ref.extractall(r'C:\\Users\\golub\\Desktop\\neural networks\\neural networks')\n",
    "zip_ref.close"
   ]
  },
  {
   "cell_type": "code",
   "execution_count": 3,
   "metadata": {},
   "outputs": [],
   "source": [
    "#Готовим папки для размещения фотографий\n",
    "os.mkdir(r'C:\\Users\\golub\\Desktop\\neural networks\\neural networks\\cats-v-dogs')\n",
    "os.mkdir(r'C:\\Users\\golub\\Desktop\\neural networks\\neural networks\\cats-v-dogs/training')\n",
    "os.mkdir(r'C:\\Users\\golub\\Desktop\\neural networks\\neural networks\\cats-v-dogs/testing')\n",
    "os.mkdir(r'C:\\Users\\golub\\Desktop\\neural networks\\neural networks\\cats-v-dogs\\training\\cats')\n",
    "os.mkdir(r'C:\\Users\\golub\\Desktop\\neural networks\\neural networks\\cats-v-dogs\\training\\dogs')\n",
    "os.mkdir(r'C:\\Users\\golub\\Desktop\\neural networks\\neural networks\\cats-v-dogs\\testing\\cats')\n",
    "os.mkdir(r'C:\\Users\\golub\\Desktop\\neural networks\\neural networks\\cats-v-dogs\\testing\\dogs')"
   ]
  },
  {
   "cell_type": "code",
   "execution_count": 4,
   "metadata": {},
   "outputs": [],
   "source": [
    "#разбиваем данные\n",
    "from random import sample\n",
    "def split_data(SOURCE, TRAINING, TESTING, SPLIT_SIZE):\n",
    "    f = os.listdir(SOURCE)\n",
    "    train = sample(f,int(SPLIT_SIZE*len(f)))\n",
    "    test = list(set(f) - set(train))\n",
    "    train_2 = [(SOURCE + i) for i in train]\n",
    "    dest_train = [(TRAINING+i) for i in train]\n",
    "    for i,j in zip(train_2,dest_train):\n",
    "        if os.path.getsize(i)>0:\n",
    "            copyfile(i, j)\n",
    "        else:\n",
    "            print(i)\n",
    "  \n",
    "    test_2 = [(SOURCE + i) for i in test]\n",
    "    dest_test = [(TESTING +i) for i in test]\n",
    "    print(len(test_2),len(train_2),len(f))\n",
    "    for m,l in zip(test_2, dest_test):\n",
    "        if os.path.getsize(m)>0:\n",
    "            copyfile(m, l)\n",
    "        else:\n",
    "            print(m)\n",
    "#другой вариант разбивки\n",
    "#     all_files=[]\n",
    "#     for file_name in os.listdir(SOURCE):\n",
    "#         file_path = SOURCE + file_name\n",
    "        \n",
    "#         if os.path.getsize(file_path):\n",
    "#             all_files.append(file_name)\n",
    "#         else:\n",
    "#             pass\n",
    "#     n_files = len(all_files)\n",
    "#     split_point=int(n_files*SPLIT_SIZE)\n",
    "#     shuffled=random.sample(all_files,n_files)\n",
    "#     train_set=shuffled[:split_point]\n",
    "#     test_set=shuffled[split_point:]\n",
    "    \n",
    "#     for file_name in train_set:\n",
    "#         copyfile(SOURCE+file_name,TRAINING+file_name)\n",
    "        \n",
    "#     for file_name in test_set:\n",
    "#         copyfile(SOURCE+file_name,TESTING+file_name)"
   ]
  },
  {
   "cell_type": "code",
   "execution_count": 5,
   "metadata": {},
   "outputs": [
    {
     "name": "stdout",
     "output_type": "stream",
     "text": [
      "1251 11250 12501\n",
      "C:\\Users\\golub\\Desktop\\neural networks\\neural networks/PetImages/Cat/666.jpg\n",
      "C:\\Users\\golub\\Desktop\\neural networks\\neural networks/PetImages/Dog/11702.jpg\n",
      "1251 11250 12501\n",
      "11250\n",
      "11249\n",
      "1250\n",
      "1251\n"
     ]
    }
   ],
   "source": [
    "#задаем значение переменных\n",
    "\n",
    "CAT_SOURCE_DIR = r\"C:\\Users\\golub\\Desktop\\neural networks\\neural networks/PetImages/Cat/\"\n",
    "TRAINING_CATS_DIR = r\"C:\\Users\\golub\\Desktop\\neural networks\\neural networks/cats-v-dogs/training/cats/\"\n",
    "TESTING_CATS_DIR = r\"C:\\Users\\golub\\Desktop\\neural networks\\neural networks/cats-v-dogs/testing/cats/\"\n",
    "DOG_SOURCE_DIR = r\"C:\\Users\\golub\\Desktop\\neural networks\\neural networks/PetImages/Dog/\"\n",
    "TRAINING_DOGS_DIR = r\"C:\\Users\\golub\\Desktop\\neural networks\\neural networks/cats-v-dogs/training/dogs/\"\n",
    "TESTING_DOGS_DIR = r\"C:\\Users\\golub\\Desktop\\neural networks\\neural networks/cats-v-dogs/testing/dogs/\"\n",
    "\n",
    "split_size = .9\n",
    "split_data(CAT_SOURCE_DIR, TRAINING_CATS_DIR, TESTING_CATS_DIR, split_size)\n",
    "split_data(DOG_SOURCE_DIR, TRAINING_DOGS_DIR, TESTING_DOGS_DIR, split_size)\n",
    "#смотрим на количество изображений в папках\n",
    "print(len(os.listdir(r'C:\\Users\\golub\\Desktop\\neural networks\\neural networks/cats-v-dogs/training/cats/')))\n",
    "print(len(os.listdir(r'C:\\Users\\golub\\Desktop\\neural networks\\neural networks/cats-v-dogs/training/dogs/')))\n",
    "print(len(os.listdir(r'C:\\Users\\golub\\Desktop\\neural networks\\neural networks/cats-v-dogs/testing/cats/')))\n",
    "print(len(os.listdir(r'C:\\Users\\golub\\Desktop\\neural networks\\neural networks/cats-v-dogs/testing/dogs/')))"
   ]
  },
  {
   "cell_type": "code",
   "execution_count": 21,
   "metadata": {},
   "outputs": [],
   "source": [
    "model = tf.keras.models.Sequential([\n",
    "\n",
    "    tf.keras.layers.Conv2D(16,(3,3),activation=tf.nn.relu,input_shape=(150,150,3)),\n",
    "    tf.keras.layers.MaxPooling2D((2,2)),\n",
    "    tf.keras.layers.Conv2D(32,(3,3), activation=tf.nn.relu),\n",
    "    tf.keras.layers.MaxPooling2D((2,2)),\n",
    "    tf.keras.layers.Conv2D(64,(3,3), activation=tf.nn.relu),\n",
    "    tf.keras.layers.MaxPooling2D((2,2)),\n",
    "    tf.keras.layers.Flatten(),\n",
    "    tf.keras.layers.Dense(128,activation=tf.nn.relu),\n",
    "    tf.keras.layers.Dense(1,activation=tf.nn.sigmoid)\n",
    "])\n",
    "\n",
    "model.compile(optimizer=RMSprop(lr=0.001), loss='binary_crossentropy', metrics=['acc'])"
   ]
  },
  {
   "cell_type": "code",
   "execution_count": 22,
   "metadata": {},
   "outputs": [
    {
     "name": "stdout",
     "output_type": "stream",
     "text": [
      "Found 22497 images belonging to 2 classes.\n",
      "Found 2501 images belonging to 2 classes.\n"
     ]
    }
   ],
   "source": [
    "#используем ImageDataGenerator\n",
    "\n",
    "TRAINING_DIR = r\"C:\\Users\\golub\\Desktop\\neural networks\\neural networks//cats-v-dogs/training\"\n",
    "train_datagen = ImageDataGenerator(\n",
    "                                  rescale = 1/255,\n",
    "      rotation_range=40,\n",
    "      width_shift_range=0.3,\n",
    "      height_shift_range=0.3,\n",
    "      shear_range=0.2,\n",
    "      zoom_range=0.2,\n",
    "      horizontal_flip=True,\n",
    "     # fill_mode='nearest'\n",
    "                                  )\n",
    "train_generator = train_datagen.flow_from_directory(TRAINING_DIR,                                                  \n",
    "                                                   batch_size=20,\n",
    "                                                   target_size=(150,150),\n",
    "                                                   class_mode='binary')\n",
    "\n",
    "VALIDATION_DIR = r\"C:\\Users\\golub\\Desktop\\neural networks\\neural networks//cats-v-dogs/testing\"\n",
    "validation_datagen = ImageDataGenerator(\n",
    "                                        rescale = 1/255,\n",
    ")\n",
    "\n",
    "validation_generator = validation_datagen.flow_from_directory(VALIDATION_DIR,                                      \n",
    "                                                   batch_size=20,\n",
    "                                                   target_size=(150,150),\n",
    "                                                   class_mode='binary')"
   ]
  },
  {
   "cell_type": "code",
   "execution_count": 23,
   "metadata": {},
   "outputs": [
    {
     "name": "stdout",
     "output_type": "stream",
     "text": [
      "Epoch 1/13\n",
      "1125/1125 [==============================] - 357s 317ms/step - loss: 0.6862 - acc: 0.5697 - val_loss: 0.5540 - val_acc: 0.7273\n",
      "Epoch 2/13\n",
      "1125/1125 [==============================] - 337s 300ms/step - loss: 0.6130 - acc: 0.6617 - val_loss: 0.6062 - val_acc: 0.6757\n",
      "Epoch 3/13\n",
      "1125/1125 [==============================] - 339s 301ms/step - loss: 0.5889 - acc: 0.6867 - val_loss: 0.5469 - val_acc: 0.7393\n",
      "Epoch 4/13\n",
      "1125/1125 [==============================] - 332s 295ms/step - loss: 0.5735 - acc: 0.7056 - val_loss: 0.5458 - val_acc: 0.7285\n",
      "Epoch 5/13\n",
      "1125/1125 [==============================] - 353s 314ms/step - loss: 0.5575 - acc: 0.7160 - val_loss: 0.4866 - val_acc: 0.7781\n",
      "Epoch 6/13\n",
      "1125/1125 [==============================] - 353s 314ms/step - loss: 0.5549 - acc: 0.7246 - val_loss: 0.5126 - val_acc: 0.7565\n",
      "Epoch 7/13\n",
      "1125/1125 [==============================] - 417s 371ms/step - loss: 0.5426 - acc: 0.7323 - val_loss: 0.4982 - val_acc: 0.7737\n",
      "Epoch 8/13\n",
      "1125/1125 [==============================] - 357s 317ms/step - loss: 0.5360 - acc: 0.7383 - val_loss: 0.4853 - val_acc: 0.7733\n",
      "Epoch 9/13\n",
      "1125/1125 [==============================] - 360s 320ms/step - loss: 0.5378 - acc: 0.7350 - val_loss: 0.5489 - val_acc: 0.7605\n",
      "Epoch 10/13\n",
      "1125/1125 [==============================] - 342s 304ms/step - loss: 0.5244 - acc: 0.7420 - val_loss: 0.5790 - val_acc: 0.7505\n",
      "Epoch 11/13\n",
      "1125/1125 [==============================] - 349s 310ms/step - loss: 0.5316 - acc: 0.7424 - val_loss: 0.4943 - val_acc: 0.7917\n",
      "Epoch 12/13\n",
      "1125/1125 [==============================] - 344s 306ms/step - loss: 0.5195 - acc: 0.7513 - val_loss: 0.4925 - val_acc: 0.7989\n",
      "Epoch 13/13\n",
      "1125/1125 [==============================] - 339s 301ms/step - loss: 0.5166 - acc: 0.7570 - val_loss: 0.4603 - val_acc: 0.8085\n"
     ]
    }
   ],
   "source": [
    "history = model.fit_generator(train_generator,\n",
    "                              epochs=13,\n",
    "                              verbose=1,\n",
    "                              validation_data=validation_generator)\n"
   ]
  },
  {
   "cell_type": "code",
   "execution_count": 24,
   "metadata": {},
   "outputs": [],
   "source": [
    "#Попробуем через готовую нейросеть научиться определять котят и собак )\n",
    "from keras.applications import DenseNet201\n",
    "\n",
    "conv_base = DenseNet201(weights='imagenet',\n",
    "                 include_top=False,\n",
    "                 input_shape=(150,150, 3))"
   ]
  },
  {
   "cell_type": "code",
   "execution_count": 25,
   "metadata": {},
   "outputs": [],
   "source": [
    "conv_base.trainable = False"
   ]
  },
  {
   "cell_type": "code",
   "execution_count": 26,
   "metadata": {},
   "outputs": [],
   "source": [
    "from keras.models import Sequential\n",
    "from keras import layers\n",
    "\n",
    "model_DN = Sequential()\n",
    "model_DN.add(conv_base)\n",
    "model_DN.add(layers.Flatten())\n",
    "model_DN.add(layers.Dense(256, activation='relu'))\n",
    "model_DN.add(layers.Dense(1, activation = 'sigmoid'))"
   ]
  },
  {
   "cell_type": "code",
   "execution_count": 27,
   "metadata": {},
   "outputs": [],
   "source": [
    "model_DN.compile(loss='binary_crossentropy',\n",
    "             optimizer = 'Adam',\n",
    "             metrics = ['acc'])"
   ]
  },
  {
   "cell_type": "code",
   "execution_count": 28,
   "metadata": {},
   "outputs": [],
   "source": [
    "callbacks_list = [keras.callbacks.EarlyStopping(\n",
    "        monitor = 'acc',\n",
    "        patience = 1),\n",
    "                  keras.callbacks.ModelCheckpoint(\n",
    "        filepath='densenet201.h5',\n",
    "        monitor='loss',\n",
    "        save_best_only=True)]"
   ]
  },
  {
   "cell_type": "code",
   "execution_count": 29,
   "metadata": {},
   "outputs": [
    {
     "name": "stdout",
     "output_type": "stream",
     "text": [
      "Epoch 1/2\n",
      "1124/1124 [==============================] - 1265s 1s/step - loss: 0.6705 - acc: 0.9052 - val_loss: 0.0886 - val_acc: 0.9688\n",
      "Epoch 2/2\n",
      "1124/1124 [==============================] - 1276s 1s/step - loss: 0.1423 - acc: 0.9412 - val_loss: 0.0542 - val_acc: 0.9772\n"
     ]
    }
   ],
   "source": [
    "model_training = model_DN.fit(\n",
    "    train_generator,\n",
    "    validation_data=validation_generator,\n",
    "    steps_per_epoch=train_generator.n//20,\n",
    "    validation_steps=validation_generator.n//20,\n",
    "    epochs = 2,\n",
    "    callbacks = callbacks_list,\n",
    "    verbose =1 )"
   ]
  },
  {
   "cell_type": "code",
   "execution_count": 30,
   "metadata": {},
   "outputs": [
    {
     "data": {
      "text/plain": [
       "<matplotlib.legend.Legend at 0x174c109eb80>"
      ]
     },
     "execution_count": 30,
     "metadata": {},
     "output_type": "execute_result"
    },
    {
     "data": {
      "image/png": "[encoded data removed]",
      "text/plain": [
       "<Figure size 432x288 with 1 Axes>"
      ]
     },
     "metadata": {
      "needs_background": "light"
     },
     "output_type": "display_data"
    },
    {
     "data": {
      "image/png": "[encoded data removed]",
      "text/plain": [
       "<Figure size 432x288 with 1 Axes>"
      ]
     },
     "metadata": {
      "needs_background": "light"
     },
     "output_type": "display_data"
    }
   ],
   "source": [
    "acc = model_training.history['acc']\n",
    "val_acc= model_training.history['val_acc']\n",
    "loss =  model_training.history['loss']\n",
    "val_loss =  model_training.history['val_loss']\n",
    "\n",
    "epochs = range(1, len(acc) + 1)\n",
    "\n",
    "plt.plot(epochs, acc, 'o', label='Training accuracy')\n",
    "plt.plot(epochs, val_acc, 'bo', label='Validation accuracy')\n",
    "\n",
    "plt.title('Training accuracy')\n",
    "plt.legend()\n",
    "\n",
    "plt.figure()\n",
    "\n",
    "plt.plot(epochs, loss, 'o', label='Training loss')\n",
    "plt.plot(epochs, val_loss, 'bo', label='Validation loss')\n",
    "plt.title('Training loss')\n",
    "plt.legend()"
   ]
  }
 ],
 "metadata": {
  "kernelspec": {
   "display_name": "Python 3",
   "language": "python",
   "name": "python3"
  },
  "language_info": {
   "codemirror_mode": {
    "name": "ipython",
    "version": 3
   },
   "file_extension": ".py",
   "mimetype": "text/x-python",
   "name": "python",
   "nbconvert_exporter": "python",
   "pygments_lexer": "ipython3",
   "version": "3.8.5"
  }
 },
 "nbformat": 4,
 "nbformat_minor": 4
}
