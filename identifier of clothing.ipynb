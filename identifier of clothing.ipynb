{
 "cells": [
  {
   "cell_type": "code",
   "execution_count": 1,
   "metadata": {},
   "outputs": [],
   "source": [
    "import tensorflow as tf\n"
   ]
  },
  {
   "cell_type": "code",
   "execution_count": 2,
   "metadata": {},
   "outputs": [],
   "source": [
    "# GRADED FUNCTION: train_mnist_conv\n",
    "def train_mnist_conv():\n",
    "\n",
    "\n",
    "\n",
    "    class myCallback(tf.keras.callbacks.Callback):\n",
    "        def on_epoch_end(self, epoch, logs={}):\n",
    "            if(logs.get('accuracy')>0.998):\n",
    "                print(\"\\nReached 99% accuracy so cancelling training!\")    \n",
    "                self.model.stop_training = True\n",
    "    \n",
    "    callbacks = myCallback()\n",
    "    # YOUR CODE ENDS HERE\n",
    "\n",
    "    mnist = tf.keras.datasets.mnist\n",
    "    (training_images, training_labels), (test_images, test_labels) = mnist.load_data()\n",
    "    # YOUR CODE STARTS HERE\n",
    "    training_images = training_images.reshape(60000, 28, 28, 1)\n",
    "    training_images = training_images / 255\n",
    "\n",
    "    test_images = test_images.reshape(10000, 28, 28, 1)\n",
    "    test_images = test_images / 255\n",
    "\n",
    "  \n",
    "\n",
    "    model = tf.keras.models.Sequential([\n",
    "\n",
    "    tf.keras.layers.Conv2D(32, (3, 3), activation='relu', input_shape=(28, 28, 1)),\n",
    "    tf.keras.layers.MaxPooling2D(2, 2),\n",
    "    tf.keras.layers.Flatten(),\n",
    "    tf.keras.layers.Dense(128, activation='relu'),\n",
    "    tf.keras.layers.Dense(10, activation= \"softmax\")\n",
    "\n",
    "    ])\n",
    "\n",
    "    model.compile(optimizer='adam', loss='sparse_categorical_crossentropy', metrics=['accuracy'])\n",
    "    # model fitting\n",
    "    history = model.fit(\n",
    "\n",
    "    training_images, training_labels, epochs=20, callbacks=[callbacks]\n",
    "    )\n",
    "    return history.epoch, history.history['accuracy'][-1]\n",
    "\n"
   ]
  },
  {
   "cell_type": "code",
   "execution_count": 3,
   "metadata": {},
   "outputs": [
    {
     "name": "stdout",
     "output_type": "stream",
     "text": [
      "Epoch 1/20\n",
      "1875/1875 [==============================] - 23s 12ms/step - loss: 0.3053 - accuracy: 0.9104\n",
      "Epoch 2/20\n",
      "1875/1875 [==============================] - 22s 12ms/step - loss: 0.0512 - accuracy: 0.9843\n",
      "Epoch 3/20\n",
      "1875/1875 [==============================] - 23s 12ms/step - loss: 0.0318 - accuracy: 0.9894\n",
      "Epoch 4/20\n",
      "1875/1875 [==============================] - 23s 12ms/step - loss: 0.0200 - accuracy: 0.9938\n",
      "Epoch 5/20\n",
      "1875/1875 [==============================] - 24s 13ms/step - loss: 0.0143 - accuracy: 0.9953\n",
      "Epoch 6/20\n",
      "1875/1875 [==============================] - 24s 13ms/step - loss: 0.0086 - accuracy: 0.9973\n",
      "Epoch 7/20\n",
      "1875/1875 [==============================] - 24s 13ms/step - loss: 0.0071 - accuracy: 0.9977\n",
      "Epoch 8/20\n",
      "1875/1875 [==============================] - 22s 12ms/step - loss: 0.0062 - accuracy: 0.9979\n",
      "Epoch 9/20\n",
      "1875/1875 [==============================] - 23s 12ms/step - loss: 0.0042 - accuracy: 0.9986\n",
      "\n",
      "Reached 99% accuracy so cancelling training!\n"
     ]
    }
   ],
   "source": [
    "epoch, history = train_mnist_conv()"
   ]
  }
 ],
 "metadata": {
  "kernelspec": {
   "display_name": "Python 3",
   "language": "python",
   "name": "python3"
  },
  "language_info": {
   "codemirror_mode": {
    "name": "ipython",
    "version": 3
   },
   "file_extension": ".py",
   "mimetype": "text/x-python",
   "name": "python",
   "nbconvert_exporter": "python",
   "pygments_lexer": "ipython3",
   "version": "3.8.5"
  }
 },
 "nbformat": 4,
 "nbformat_minor": 4
}
